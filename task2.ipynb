{
 "cells": [
  {
   "cell_type": "markdown",
   "metadata": {},
   "source": [
    "# Problem 2a"
   ]
  },
  {
   "cell_type": "markdown",
   "metadata": {},
   "source": [
    "\n",
    "Show that $\\bar{X} = \\frac{1}{n} \\mathbf{1}^T \\mathbf{X}$ and that $S^2 = \\frac{1}{n-1} \\mathbf{X}^T C \\mathbf{X}$."
   ]
  },
  {
   "cell_type": "markdown",
   "metadata": {},
   "source": [
    "\n",
    "\n",
    "**Solution:**\n",
    "\n",
    "To show that $\\bar{X} = \\frac{1}{n} \\mathbf{1}^T \\mathbf{X}$:\n",
    "\n",
    "1. Recall that $\\bar{X} = \\frac{1}{n} \\sum_{i=1}^n X_i$.\n",
    "2. The vector $\\mathbf{X}$ is defined as $\\mathbf{X} = (X_1, X_2, \\ldots, X_n)^T$.\n",
    "3. The vector $\\mathbf{1}$ is an $n$-dimensional vector of 1s.\n",
    "4. Therefore, $\\mathbf{1}^T \\mathbf{X} = \\sum_{i=1}^n X_i$.\n",
    "5. Thus, $\\bar{X} = \\frac{1}{n} \\mathbf{1}^T \\mathbf{X}$.\n",
    "\n",
    "To show that $S^2 = \\frac{1}{n-1} \\mathbf{X}^T C \\mathbf{X}$:\n",
    "\n",
    "1. Recall that $S^2 = \\frac{1}{n-1} \\sum_{i=1}^n (X_i - \\bar{X})^2$.\n",
    "2. The centring matrix $C$ is defined as $C = I - \\frac{1}{n} \\mathbf{1} \\mathbf{1}^T$.\n",
    "3. Consider the $i'th$ component of $C \\mathbf{X}$:\n",
    "   \n",
    "\n",
    "$(C \\mathbf{X})_i = X_i - \\bar{X}$\n",
    "\n",
    "\n",
    "4. Therefore, $\\mathbf{X}^T C \\mathbf{X} = \\sum_{i=1}^n (X_i - \\bar{X})^2$.\n",
    "5. Thus, $S^2 = \\frac{1}{n-1} \\mathbf{X}^T C \\mathbf{X}$.\n"
   ]
  },
  {
   "cell_type": "markdown",
   "metadata": {},
   "source": [
    "# Problem 2b"
   ]
  },
  {
   "cell_type": "markdown",
   "metadata": {},
   "source": [
    "\n",
    "Show that $\\frac{1}{n} \\mathbf{1}^T \\mathbf{C} = \\mathbf{0}^T$. What does this imply about $\\frac{1}{n} \\mathbf{1}^T \\mathbf{X}$ and $\\mathbf{C}\\mathbf{X}$? How can you use this to conclude that $\\bar{X}$ and $S^2$ are independent?\n"
   ]
  },
  {
   "cell_type": "markdown",
   "metadata": {},
   "source": [
    "\n",
    "**Solution:**\n",
    "\n",
    "To show that $\\frac{1}{n} \\mathbf{1}^T \\mathbf{C} = \\mathbf{0}^T$:\n",
    "\n",
    "1. Recall that the centring matrix $C$ is defined as $C = I - \\frac{1}{n} \\mathbf{1} \\mathbf{1}^T$.\n",
    "2. Let's compute $\\frac{1}{n} \\mathbf{1}^T C$:\n",
    "   \n",
    "$\\frac{1}{n} \\mathbf{1}^T C = \\frac{1}{n} \\mathbf{1}^T \\left( I - \\frac{1}{n} \\mathbf{1} \\mathbf{1}^T \\right)$\n",
    "\n",
    "\n",
    "\n",
    "3. Distribute $\\mathbf{1}^T$ across the terms inside the parentheses:\n",
    "   \n",
    "\n",
    "   $\\frac{1}{n} \\mathbf{1}^T C = \\frac{1}{n} \\mathbf{1}^T I - \\frac{1}{n^2} \\mathbf{1}^T \\mathbf{1} \\mathbf{1}^T$\n",
    "\n",
    "\n",
    "4. Note that $\\mathbf{1}^T I = \\mathbf{1}^T$ (since $\\mathbf{1}^T$ is a row vector of 1s) and $\\mathbf{1}^T \\mathbf{1} = n$ (since $\\mathbf{1}$ is an $n$-dimensional vector of 1s):\n",
    "   \n",
    "\n",
    "$\\frac{1}{n} \\mathbf{1}^T C = \\frac{1}{n} \\mathbf{1}^T - \\frac{1}{n} \\mathbf{1}^T = \\mathbf{0}^T$\n",
    "\n",
    "\n",
    "5. Hence, $\\frac{1}{n} \\mathbf{1}^T \\mathbf{C} = \\mathbf{0}^T$.\n",
    "\n",
    "Implications for $\\frac{1}{n} \\mathbf{1}^T \\mathbf{X}$ and $\\mathbf{C}\\mathbf{X}$:\n",
    "\n",
    "1. Since $\\frac{1}{n} \\mathbf{1}^T \\mathbf{C} = \\mathbf{0}^T$, we have:\n",
    "   \n",
    "\n",
    "$\\frac{1}{n} \\mathbf{1}^T \\mathbf{C} \\mathbf{X} = \\mathbf{0}^T \\mathbf{X} = 0$\n",
    "\n",
    "\n",
    "2. This implies that the vector $\\mathbf{C} \\mathbf{X}$ is orthogonal to the vector $\\mathbf{1}$:\n",
    "   \n",
    "\n",
    "$\\mathbf{1}^T \\mathbf{C} \\mathbf{X} = 0$\n",
    "\n",
    "\n",
    "\n",
    "To conclude that $\\bar{X}$ and $S^2$ are independent:\n",
    "\n",
    "1. Recall that $\\bar{X} = \\frac{1}{n} \\mathbf{1}^T \\mathbf{X}$ and $S^2 = \\frac{1}{n-1} \\mathbf{X}^T C \\mathbf{X}$.\n",
    "2. We know that $\\mathbf{X}$ can be decomposed into $\\mathbf{X} = \\bar{X} \\mathbf{1} + \\mathbf{C} \\mathbf{X}$.\n",
    "3. Since $\\mathbf{C} \\mathbf{X}$ is orthogonal to $\\mathbf{1}$, $\\bar{X}$ and $S^2$ are functions of orthogonal components.\n",
    "4. The independence follows because $\\bar{X}$ is determined by the projection of $\\mathbf{X}$ onto $\\mathbf{1}$, and $S^2$ is determined by the orthogonal residuals $\\mathbf{C} \\mathbf{X}$.\n"
   ]
  },
  {
   "cell_type": "markdown",
   "metadata": {},
   "source": [
    "# Problem 2c"
   ]
  },
  {
   "cell_type": "markdown",
   "metadata": {},
   "source": [
    "\n",
    "Derive the distribution of $\\frac{(n-1)S^2}{\\sigma^2}$."
   ]
  },
  {
   "cell_type": "markdown",
   "metadata": {},
   "source": [
    "\n",
    "**Solution:**\n",
    "\n",
    "Given the hint:\n",
    "- $S^2 = \\frac{1}{n-1} \\mathbf{X}^T \\mathbf{C} \\mathbf{X}$,\n",
    "- $\\mathbf{C}$ is symmetric and idempotent,\n",
    "- If $\\mathbf{R}$ is a symmetric and idempotent matrix with rank $r$, and $\\mathbf{Y} \\sim N(0, I)$, then $\\mathbf{Y}^T \\mathbf{R} \\mathbf{Y} \\sim \\chi^2_r$.\n",
    "\n",
    "We are to derive the distribution of $\\frac{(n-1)S^2}{\\sigma^2}$.\n",
    "\n",
    "1. Start with the expression for $S^2$:\n",
    "   \n",
    "\n",
    "$S^2 = \\frac{1}{n-1} \\mathbf{X}^T \\mathbf{C} \\mathbf{X}$\n",
    "\n",
    "\n",
    "2. Multiply both sides by $(n-1)/\\sigma^2$:\n",
    "   \n",
    "\n",
    "$\\frac{(n-1)S^2}{\\sigma^2} = \\frac{(n-1)}{\\sigma^2} \\cdot \\frac{1}{n-1} \\mathbf{X}^T \\mathbf{C} \\mathbf{X} = \\frac{1}{\\sigma^2} \\mathbf{X}^T \\mathbf{C} \\mathbf{X}$\n",
    "\n",
    "\n",
    "3. Let $\\mathbf{X} = \\sigma \\mathbf{Y}$, where $\\mathbf{Y} \\sim N(0, I)$:\n",
    "   \n",
    "\n",
    "$\\frac{1}{\\sigma^2} \\mathbf{X}^T \\mathbf{C} \\mathbf{X} = \\frac{1}{\\sigma^2} (\\sigma \\mathbf{Y})^T \\mathbf{C} (\\sigma \\mathbf{Y}) = \\mathbf{Y}^T \\mathbf{C} \\mathbf{Y}$\n",
    "\n",
    "\n",
    "4. Given $\\mathbf{C}$ is symmetric and idempotent with rank $r = n-1$, and $\\mathbf{Y} \\sim N(0, I)$:\n",
    "   \n",
    "\n",
    "$\\mathbf{Y}^T \\mathbf{C} \\mathbf{Y} \\sim \\chi^2_{n-1}$\n",
    "\n",
    "\n",
    "5. Therefore, the distribution of $\\frac{(n-1)S^2}{\\sigma^2}$ is:\n",
    "   \n",
    "\n",
    "$\\frac{(n-1)S^2}{\\sigma^2} \\sim \\chi^2_{n-1}$\n",
    "\n",
    "\n",
    "\n",
    "Hence, the distribution of $\\frac{(n-1)S^2}{\\sigma^2}$ is $\\chi^2$ with $n-1$ degrees of freedom.\n"
   ]
  }
 ],
 "metadata": {
  "kernelspec": {
   "display_name": "base",
   "language": "python",
   "name": "python3"
  },
  "language_info": {
   "name": "python",
   "version": "3.8.8"
  }
 },
 "nbformat": 4,
 "nbformat_minor": 2
}
